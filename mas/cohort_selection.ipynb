{
 "cells": [
  {
   "cell_type": "code",
   "execution_count": 1,
   "metadata": {},
   "outputs": [],
   "source": [
    "import pandas as pd\n",
    "import matplotlib.pyplot as plt\n",
    "import numpy as np\n",
    "import datetime\n",
    "\n",
    "DATA_DIR = \"/voyager/datasets/liver_transplant/SRTR/\"\n",
    "MELD_CONVERSION_DIR = \"mas/data/reference_tables/meld_conversion.csv\""
   ]
  },
  {
   "cell_type": "code",
   "execution_count": 2,
   "metadata": {},
   "outputs": [],
   "source": [
    "cand_liin = pd.read_sas(DATA_DIR + \"cand_liin.sas7bdat\")\n",
    "mpexcept = pd.read_sas(DATA_DIR + \"mpexcept.sas7bdat\")\n",
    "tx_li = pd.read_sas(DATA_DIR + \"tx_li.sas7bdat\")"
   ]
  },
  {
   "cell_type": "code",
   "execution_count": 4,
   "metadata": {},
   "outputs": [],
   "source": [
    "txf_li = pd.read_sas(DATA_DIR + \"txf_li.sas7bdat\")"
   ]
  },
  {
   "cell_type": "code",
   "execution_count": 18,
   "metadata": {},
   "outputs": [
    {
     "data": {
      "text/plain": [
       "183721"
      ]
     },
     "execution_count": 18,
     "metadata": {},
     "output_type": "execute_result"
    }
   ],
   "source": [
    "len(tx_li.PX_ID.unique())"
   ]
  },
  {
   "cell_type": "code",
   "execution_count": 14,
   "metadata": {},
   "outputs": [
    {
     "data": {
      "text/plain": [
       "0"
      ]
     },
     "execution_count": 14,
     "metadata": {},
     "output_type": "execute_result"
    }
   ],
   "source": [
    "sum(pd.isna(tx_li.PX_ID))"
   ]
  },
  {
   "cell_type": "code",
   "execution_count": 7,
   "metadata": {},
   "outputs": [
    {
     "data": {
      "text/plain": [
       "161757"
      ]
     },
     "execution_count": 7,
     "metadata": {},
     "output_type": "execute_result"
    }
   ],
   "source": [
    "len(txf_li.PX_ID.unique())"
   ]
  },
  {
   "cell_type": "code",
   "execution_count": 8,
   "metadata": {},
   "outputs": [],
   "source": [
    "def filter_candidates(df, mpexcept, tx_li):\n",
    "    \"\"\"\n",
    "    Performs filtering of a dataframe of transplant candidates using inclusion/\n",
    "    exclusion criteria determined in conjunction with our clinical collaborator.\n",
    "\n",
    "    This function performs the following exclusion operations.\n",
    "    1. Exclude patients listed oufside the time of interest (February 27, 2002 \n",
    "    - December 1, 2021).\n",
    "    2. Remove patients who received transplants but were never put on the\n",
    "    waitlist or who were listed in error.\n",
    "    3. Remove patients with a previous transplant.\n",
    "    4. Remove patients with a multi-organ transplantation.\n",
    "    5. Remove patients multi-listed, refused transplant, transferred, unable \n",
    "    to contact candidate, transplant in other country, removed in error.\n",
    "    6. Remove non-adult patients.\n",
    "    \"\"\"\n",
    "    df_rows = df.shape[0]\n",
    "    print(f\"Commencing filtering. DataFrame contains {df.shape[0]} rows.\")\n",
    "    # 1. Exclude patients outside the timeframe of interest.\n",
    "    df = df.loc[(df['CAN_ACTIVATE_DT'] >= pd.to_datetime(datetime.date(2002, 2, 27))) \n",
    "                    & (df['CAN_ACTIVATE_DT'] <= pd.to_datetime(datetime.date(2021, 12, 1)))]\n",
    "    \n",
    "    print(f\"EC 1: Dropping {df_rows - df.shape[0]} rows (outside the timeframe of interest).\")\n",
    "    df_rows = df.shape[0]\n",
    "    \n",
    "    # 2. Remove patients who received transplants but were never put on the\n",
    "    # waitlist or who were listed in error. (N = 0)\n",
    "    df = df.loc[(df['CAN_SOURCE'] != b'L') | # Live donor - so never on waitlist\n",
    "                (df['CAN_REM_CD'] == 10) # Listed in error\n",
    "                ]\n",
    "    print(f\"EC 2: Dropping {df_rows - df.shape[0]} rows (received transplants but never waitlisted, or waitlisted in error).\")\n",
    "    df_rows = df.shape[0]\n",
    "\n",
    "    # 3. Remove patients with a previous transplant\n",
    "    df = df.loc[(df['CAN_PREV_TX'] == 0) & \n",
    "                (df['CAN_PREV_HL'] == 0) &\n",
    "                (df['CAN_PREV_HR'] == 0) &\n",
    "                (df['CAN_PREV_IN'] == 0) &\n",
    "                (df['CAN_PREV_KI'] == 0) &\n",
    "                (df['CAN_PREV_KP'] == 0) &\n",
    "                (df['CAN_PREV_LI'] == 0) &\n",
    "                (df['CAN_PREV_LU'] == 0) &\n",
    "                (df['CAN_PREV_PA'] == 0)]\n",
    "    print(f\"Dropping {df_rows - df.shape[0]} rows (previous transplant).\")\n",
    "    df_rows = df.shape[0]\n",
    "\n",
    "    # 4. Remove patients with a multi-organ transplantation\n",
    "    multi_organ_patients = set(\n",
    "        tx_li.loc[tx_li[\"REC_TX_ORG_TY\"] != b\"LI\"][\"PX_ID\"]\n",
    "    )\n",
    "    df = df[~df[\"PX_ID\"].isin(multi_organ_patients)]\n",
    "    print(f\"Dropping {df_rows - df.shape[0]} rows (multi-organ transplant).\")\n",
    "    df_rows = df.shape[0]\n",
    "\n",
    "    # 5. Remove patients multi-listed, refused transplant, transferred, unable \n",
    "    # to contact candidate, transplant in other country, removed in error.\n",
    "    df = df.loc[(df[\"CAN_REM_CD\"] != 14) &  # Multi-listed\n",
    "                (df[\"CAN_REM_CD\"] != 6) & # Refused transplant\n",
    "                (df[\"CAN_REM_CD\"] != 7) & # Transferred to another center\n",
    "                (df[\"CAN_REM_CD\"] != 24) & # Unable to contact candidate\n",
    "                (df[\"CAN_REM_CD\"] != 22) & # Transplant in another country\n",
    "                (df[\"CAN_REM_CD\"] != 16) # Candidate removed in error\n",
    "                ]\n",
    "    print(f\"Dropping {df_rows - df.shape[0]} rows (multi-listed, refused transplant, transferred, unable to contact candidate, transplant in other country, removed in error).\")\n",
    "    df_rows = df.shape[0]\n",
    "\n",
    "    # 6. Remove non-adult patients.\n",
    "    # TODO - 18 is the cutoff, presumably?\n",
    "    df = df.loc[df[\"CAN_AGE_IN_MONTHS_AT_LISTING\"] >= 18*12]\n",
    "\n",
    "    print(f\"Dropping {df_rows - df.shape[0]} rows (non-adult patient).\")\n",
    "    df_rows = df.shape[0]\n",
    "\n",
    "    print(f\"Filtering complete. Filtered DataFrame contains {df.shape[0]} rows.\")\n",
    "\n",
    "    return df"
   ]
  },
  {
   "cell_type": "code",
   "execution_count": 22,
   "metadata": {},
   "outputs": [],
   "source": [
    "def filter_candidates_unique(df, mpexcept, tx_li):\n",
    "    \"\"\"\n",
    "    Performs filtering of a dataframe of transplant candidates using inclusion/\n",
    "    exclusion criteria determined in conjunction with our clinical collaborator.\n",
    "\n",
    "    This function performs the following exclusion operations.\n",
    "    1. Exclude patients listed oufside the time of interest (February 27, 2002 \n",
    "    - December 1, 2021).\n",
    "    2. Remove patients who received transplants but were never put on the\n",
    "    waitlist or who were listed in error.\n",
    "    3. Remove patients with a previous transplant.\n",
    "    4. Remove patients with a multi-organ transplantation.\n",
    "    5. Remove patients multi-listed, refused transplant, transferred, unable \n",
    "    to contact candidate, transplant in other country, removed in error.\n",
    "    6. Remove non-adult patients.\n",
    "    \"\"\"\n",
    "    df_rows = len(tx_li.PX_ID.unique())\n",
    "    print(f\"begin with {df_rows} unique patients\")\n",
    "    print(f\"Commencing filtering. DataFrame contains {df.shape[0]} rows.\")\n",
    "    # 1. Exclude patients outside the timeframe of interest.\n",
    "    df = df.loc[(df['CAN_ACTIVATE_DT'] >= pd.to_datetime(datetime.date(2002, 2, 27))) \n",
    "                    & (df['CAN_ACTIVATE_DT'] <= pd.to_datetime(datetime.date(2021, 12, 1)))]\n",
    "    \n",
    "    print(f\"EC 1: Dropping {df_rows - df.shape[0]} rows (outside the timeframe of interest).\")\n",
    "    df_rows = len(tx_li[tx_li.PX_ID.isin(df.PX_ID.unique())].PX_ID.unique())\n",
    "    print(f\"after EC 1, {df_rows} unique patients\")\n",
    "    \n",
    "    # 2. Remove patients who received transplants but were never put on the\n",
    "    # waitlist or who were listed in error. (N = 0)\n",
    "    df = df.loc[(df['CAN_SOURCE'] != b'L') | # Live donor - so never on waitlist\n",
    "                (df['CAN_REM_CD'] == 10) # Listed in error\n",
    "                ]\n",
    "    print(f\"EC 2: Dropping {df_rows - df.shape[0]} rows (received transplants but never waitlisted, or waitlisted in error).\")\n",
    "    df_rows = len(tx_li[tx_li.PX_ID.isin(df.PX_ID.unique())].PX_ID.unique())\n",
    "    print(f\"after EC 2, {df_rows} unique patients\")\n",
    "\n",
    "    # 3. Remove patients with a previous transplant\n",
    "    df = df.loc[(df['CAN_PREV_TX'] == 0) & \n",
    "                (df['CAN_PREV_HL'] == 0) &\n",
    "                (df['CAN_PREV_HR'] == 0) &\n",
    "                (df['CAN_PREV_IN'] == 0) &\n",
    "                (df['CAN_PREV_KI'] == 0) &\n",
    "                (df['CAN_PREV_KP'] == 0) &\n",
    "                (df['CAN_PREV_LI'] == 0) &\n",
    "                (df['CAN_PREV_LU'] == 0) &\n",
    "                (df['CAN_PREV_PA'] == 0)]\n",
    "    print(f\"Dropping {df_rows - df.shape[0]} rows (previous transplant).\")\n",
    "    df_rows = len(tx_li[tx_li.PX_ID.isin(df.PX_ID.unique())].PX_ID.unique())\n",
    "    print(f\"after EC 3, {df_rows} unique patients\")\n",
    "\n",
    "    # 4. Remove patients with a multi-organ transplantation\n",
    "    multi_organ_patients = set(\n",
    "        tx_li.loc[tx_li[\"REC_TX_ORG_TY\"] != b\"LI\"][\"PX_ID\"]\n",
    "    )\n",
    "    df = df[~df[\"PX_ID\"].isin(multi_organ_patients)]\n",
    "    print(f\"Dropping {df_rows - df.shape[0]} rows (multi-organ transplant).\")\n",
    "    df_rows = len(tx_li[tx_li.PX_ID.isin(df.PX_ID.unique())].PX_ID.unique())\n",
    "    print(f\"after EC 4, {df_rows} unique patients\")\n",
    "\n",
    "    # 5. Remove patients multi-listed, refused transplant, transferred, unable \n",
    "    # to contact candidate, transplant in other country, removed in error.\n",
    "    df = df.loc[(df[\"CAN_REM_CD\"] != 14) &  # Multi-listed\n",
    "                (df[\"CAN_REM_CD\"] != 6) & # Refused transplant\n",
    "                (df[\"CAN_REM_CD\"] != 7) & # Transferred to another center\n",
    "                (df[\"CAN_REM_CD\"] != 24) & # Unable to contact candidate\n",
    "                (df[\"CAN_REM_CD\"] != 22) & # Transplant in another country\n",
    "                (df[\"CAN_REM_CD\"] != 16) # Candidate removed in error\n",
    "                ]\n",
    "    print(f\"Dropping {df_rows - df.shape[0]} rows (multi-listed, refused transplant, transferred, unable to contact candidate, transplant in other country, removed in error).\")\n",
    "    df_rows = len(tx_li[tx_li.PX_ID.isin(df.PX_ID.unique())].PX_ID.unique())\n",
    "    print(f\"after EC 5, {df_rows} unique patients\")\n",
    "\n",
    "    # 6. Remove non-adult patients.\n",
    "    # TODO - 18 is the cutoff, presumably?\n",
    "    df = df.loc[df[\"CAN_AGE_IN_MONTHS_AT_LISTING\"] >= 18*12]\n",
    "\n",
    "    print(f\"Dropping {df_rows - df.shape[0]} rows (non-adult patient).\")\n",
    "    df_rows = len(tx_li[tx_li.PX_ID.isin(df.PX_ID.unique())].PX_ID.unique())\n",
    "    print(f\"after EC 6, {df_rows} unique patients\")\n",
    "\n",
    "    print(f\"Filtering complete. Filtered DataFrame contains {df.shape[0]} rows.\")\n",
    "\n",
    "    return df"
   ]
  },
  {
   "cell_type": "code",
   "execution_count": 9,
   "metadata": {},
   "outputs": [
    {
     "name": "stdout",
     "output_type": "stream",
     "text": [
      "Commencing filtering. DataFrame contains 327212 rows.\n",
      "EC 1: Dropping 99868 rows (outside the timeframe of interest).\n",
      "EC 2: Dropping 0 rows (received transplants but never waitlisted, or waitlisted in error).\n",
      "Dropping 15222 rows (previous transplant).\n",
      "Dropping 9507 rows (multi-organ transplant).\n",
      "Dropping 13481 rows (multi-listed, refused transplant, transferred, unable to contact candidate, transplant in other country, removed in error).\n",
      "Dropping 12925 rows (non-adult patient).\n",
      "Filtering complete. Filtered DataFrame contains 176209 rows.\n"
     ]
    }
   ],
   "source": [
    "df = filter_candidates(cand_liin, mpexcept, tx_li)"
   ]
  },
  {
   "cell_type": "code",
   "execution_count": 23,
   "metadata": {},
   "outputs": [
    {
     "name": "stdout",
     "output_type": "stream",
     "text": [
      "begin with 183721 unique patients\n",
      "Commencing filtering. DataFrame contains 327212 rows.\n",
      "EC 1: Dropping -43623 rows (outside the timeframe of interest).\n",
      "after EC 1, 126349 unique patients\n",
      "EC 2: Dropping -100995 rows (received transplants but never waitlisted, or waitlisted in error).\n",
      "after EC 2, 126349 unique patients\n",
      "Dropping -85773 rows (previous transplant).\n",
      "after EC 3, 117979 unique patients\n",
      "Dropping -84636 rows (multi-organ transplant).\n",
      "after EC 4, 108472 unique patients\n",
      "Dropping -80662 rows (multi-listed, refused transplant, transferred, unable to contact candidate, transplant in other country, removed in error).\n",
      "after EC 5, 108472 unique patients\n",
      "Dropping -67737 rows (non-adult patient).\n",
      "after EC 6, 100001 unique patients\n",
      "Filtering complete. Filtered DataFrame contains 176209 rows.\n"
     ]
    }
   ],
   "source": [
    "df = filter_candidates_unique(cand_liin, mpexcept, tx_li)"
   ]
  },
  {
   "cell_type": "code",
   "execution_count": 27,
   "metadata": {},
   "outputs": [
    {
     "data": {
      "text/plain": [
       "Timestamp('2021-02-27 00:00:00')"
      ]
     },
     "execution_count": 27,
     "metadata": {},
     "output_type": "execute_result"
    }
   ],
   "source": [
    "tx_li.CAN_LISTING_DT.max()"
   ]
  },
  {
   "cell_type": "code",
   "execution_count": null,
   "metadata": {},
   "outputs": [],
   "source": [
    "# Construct training, validation, and test sets - these will be text files\n",
    "# wherein each line comprises a single PX_ID. Upon loading the data, the table\n",
    "# can then be filtered by training, valdiation, and test PX_IDs in order to \n",
    "# obtain the desired table.\n",
    "\n",
    "# We perform a 70%-15%-15% train-val-test split.\n",
    "train_splt, val_splt = 0.7, 0.85\n",
    "\n",
    "np.random.seed(42)\n",
    "\n",
    "patient_identifiers = np.array(df[\"PX_ID\"])\n",
    "np.random.shuffle(patient_identifiers)\n",
    "train, val, test = np.split(patient_identifiers,\n",
    "                [int(train_splt*len(patient_identifiers)), \n",
    "                int(val_splt*len(patient_identifiers))]\n",
    "                )\n",
    "\n",
    "with open(\"mas/data/data_splits/train_split.txt\", \"w\") as f:\n",
    "    f.write(\"\\n\".join(train.astype('str')))\n",
    "\n",
    "with open(\"mas/data/data_splits/val_split.txt\", \"w\") as f:\n",
    "    f.write(\"\\n\".join(val.astype('str')))\n",
    "\n",
    "with open(\"mas/data/data_splits/test_split.txt\", \"w\") as f:\n",
    "    f.write(\"\\n\".join(test.astype('str')))"
   ]
  }
 ],
 "metadata": {
  "kernelspec": {
   "display_name": "Python 3.8.5 ('graft')",
   "language": "python",
   "name": "python3"
  },
  "language_info": {
   "codemirror_mode": {
    "name": "ipython",
    "version": 3
   },
   "file_extension": ".py",
   "mimetype": "text/x-python",
   "name": "python",
   "nbconvert_exporter": "python",
   "pygments_lexer": "ipython3",
   "version": "3.8.5"
  },
  "orig_nbformat": 4,
  "vscode": {
   "interpreter": {
    "hash": "e22c14a342aa8bc42b3cfa0847c9f5a7d2be2c290e0bda5b17795adb2162376a"
   }
  }
 },
 "nbformat": 4,
 "nbformat_minor": 2
}
